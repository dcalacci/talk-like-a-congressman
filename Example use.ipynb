{
 "metadata": {
  "name": "",
  "signature": "sha256:b5d366d860addd73fffc7921db228b6fe6537f8424d25fb282f111b1feca7313"
 },
 "nbformat": 3,
 "nbformat_minor": 0,
 "worksheets": [
  {
   "cells": [
    {
     "cell_type": "code",
     "collapsed": false,
     "input": [
      "import corpus, markov\n",
      "%load_ext autoreload\n",
      "%autoreload 2"
     ],
     "language": "python",
     "metadata": {},
     "outputs": [],
     "prompt_number": 1
    },
    {
     "cell_type": "code",
     "collapsed": false,
     "input": [
      "c = corpus.read_data('corpora/1032/corpus.txt', 'vocab.txt')"
     ],
     "language": "python",
     "metadata": {},
     "outputs": [],
     "prompt_number": 27
    },
    {
     "cell_type": "code",
     "collapsed": false,
     "input": [
      "m = markov.Markov(c, 3)"
     ],
     "language": "python",
     "metadata": {},
     "outputs": [],
     "prompt_number": 70
    },
    {
     "cell_type": "code",
     "collapsed": false,
     "input": [
      "m.generate(100)"
     ],
     "language": "python",
     "metadata": {},
     "outputs": [
      {
       "metadata": {},
       "output_type": "pyout",
       "prompt_number": 79,
       "text": [
        "'they now have better access to technology in the affordable care act is already paying dividends for millions of americans with more to come children can no longer have the records to defend themselves similarly at least some irs agents have taken the position that anyone who claimed edc benefits as a certainly as a participant in a recent report from the leaders and residents of the pre jobs act with respect to the united states and that met the program s criteria for creating jobs and economic opportunity for virgin islanders the increase of our nation i believe the path'"
       ]
      }
     ],
     "prompt_number": 79
    }
   ],
   "metadata": {}
  }
 ]
}