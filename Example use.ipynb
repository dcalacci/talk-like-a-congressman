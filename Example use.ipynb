{
 "metadata": {
  "name": "",
  "signature": "sha256:03f65b209609814c6342014efc216b2fb63f4e1e491436688827c92252f5cd0e"
 },
 "nbformat": 3,
 "nbformat_minor": 0,
 "worksheets": [
  {
   "cells": [
    {
     "cell_type": "code",
     "collapsed": false,
     "input": [
      "import corpus, markov\n",
      "%load_ext autoreload\n",
      "%autoreload 2"
     ],
     "language": "python",
     "metadata": {},
     "outputs": [],
     "prompt_number": 1
    },
    {
     "cell_type": "code",
     "collapsed": false,
     "input": [
      "c = corpus.read_data('corpora/1032/corpus.txt', 'vocab.txt')"
     ],
     "language": "python",
     "metadata": {},
     "outputs": [],
     "prompt_number": 27
    },
    {
     "cell_type": "code",
     "collapsed": false,
     "input": [
      "m = markov.Markov(c, 3)"
     ],
     "language": "python",
     "metadata": {},
     "outputs": [],
     "prompt_number": 70
    },
    {
     "cell_type": "code",
     "collapsed": false,
     "input": [
      "m.generate(100)"
     ],
     "language": "python",
     "metadata": {},
     "outputs": [
      {
       "metadata": {},
       "output_type": "pyout",
       "prompt_number": 81,
       "text": [
        "'their continued success we must find better ways to reward teacher excellence and innovation expand access to more affordable as our economy becomes increasingly necessary to enter the workforce unfortunately rising tuition costs force the average borrower 17 500 into debt upon graduation a recent report from the national center for disease control and epa to put train and deploy mixed teams depending on the particular environment we ve got about a thousand people out of their component either in a different direction the legislation before both the house and senate authorizing committees the subcommittee that is the way we work'"
       ]
      }
     ],
     "prompt_number": 81
    }
   ],
   "metadata": {}
  }
 ]
}